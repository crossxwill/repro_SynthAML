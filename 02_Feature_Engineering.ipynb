{
 "cells": [
  {
   "cell_type": "markdown",
   "metadata": {},
   "source": [
    "# Feature Engineering\n",
    "\n",
    "Prepare the data frames for modeling."
   ]
  },
  {
   "cell_type": "code",
   "execution_count": 1,
   "metadata": {},
   "outputs": [
    {
     "data": {
      "application/vnd.jupyter.widget-view+json": {
       "model_id": "abfb379f9f734fa38e3a0279117bdb0e",
       "version_major": 2,
       "version_minor": 0
      },
      "text/plain": [
       "FloatProgress(value=0.0, layout=Layout(width='auto'), style=ProgressStyle(bar_color='black'))"
      ]
     },
     "metadata": {},
     "output_type": "display_data"
    }
   ],
   "source": [
    "import duckdb\n",
    "import pandas as pd\n",
    "import plotnine as p9\n",
    "import numpy as np\n",
    "\n",
    "# Read CSV files using DuckDB and convert to pandas data frames\n",
    "con = duckdb.connect()\n",
    "\n",
    "df_alerts = con.execute(\"SELECT * FROM 'synthetic_alerts.csv'\").df()\n",
    "df_transactions = con.execute(\"SELECT * FROM 'synthetic_transactions.csv'\").df()"
   ]
  },
  {
   "cell_type": "markdown",
   "metadata": {},
   "source": [
    "Save the data frames as parquet files (to improve read speed in the next notebook)."
   ]
  },
  {
   "cell_type": "markdown",
   "metadata": {},
   "source": [
    "# Aggregate the transactions data\n",
    "\n",
    "Each alert is associated with multiple transactions. Aggregate the transactions to the alert level."
   ]
  },
  {
   "cell_type": "code",
   "execution_count": 2,
   "metadata": {
    "vscode": {
     "languageId": "ruby"
    }
   },
   "outputs": [
    {
     "name": "stdout",
     "output_type": "stream",
     "text": [
      "<class 'pandas.core.frame.DataFrame'>\n",
      "RangeIndex: 20000 entries, 0 to 19999\n",
      "Data columns (total 57 columns):\n",
      " #   Column                           Non-Null Count  Dtype  \n",
      "---  ------                           --------------  -----  \n",
      " 0   AlertID                          20000 non-null  int64  \n",
      " 1   Card_Credit_minSize              20000 non-null  float64\n",
      " 2   Card_Debit_minSize               20000 non-null  float64\n",
      " 3   Cash_Credit_minSize              20000 non-null  float64\n",
      " 4   Cash_Debit_minSize               20000 non-null  float64\n",
      " 5   International_Credit_minSize     20000 non-null  float64\n",
      " 6   International_Debit_minSize      20000 non-null  float64\n",
      " 7   Wire_Credit_minSize              20000 non-null  float64\n",
      " 8   Wire_Debit_minSize               20000 non-null  float64\n",
      " 9   Card_Credit_meanSize             20000 non-null  float64\n",
      " 10  Card_Debit_meanSize              20000 non-null  float64\n",
      " 11  Cash_Credit_meanSize             20000 non-null  float64\n",
      " 12  Cash_Debit_meanSize              20000 non-null  float64\n",
      " 13  International_Credit_meanSize    20000 non-null  float64\n",
      " 14  International_Debit_meanSize     20000 non-null  float64\n",
      " 15  Wire_Credit_meanSize             20000 non-null  float64\n",
      " 16  Wire_Debit_meanSize              20000 non-null  float64\n",
      " 17  Card_Credit_medianSize           20000 non-null  float64\n",
      " 18  Card_Debit_medianSize            20000 non-null  float64\n",
      " 19  Cash_Credit_medianSize           20000 non-null  float64\n",
      " 20  Cash_Debit_medianSize            20000 non-null  float64\n",
      " 21  International_Credit_medianSize  20000 non-null  float64\n",
      " 22  International_Debit_medianSize   20000 non-null  float64\n",
      " 23  Wire_Credit_medianSize           20000 non-null  float64\n",
      " 24  Wire_Debit_medianSize            20000 non-null  float64\n",
      " 25  Card_Credit_maxSize              20000 non-null  float64\n",
      " 26  Card_Debit_maxSize               20000 non-null  float64\n",
      " 27  Cash_Credit_maxSize              20000 non-null  float64\n",
      " 28  Cash_Debit_maxSize               20000 non-null  float64\n",
      " 29  International_Credit_maxSize     20000 non-null  float64\n",
      " 30  International_Debit_maxSize      20000 non-null  float64\n",
      " 31  Wire_Credit_maxSize              20000 non-null  float64\n",
      " 32  Wire_Debit_maxSize               20000 non-null  float64\n",
      " 33  Card_Credit_stdSize              20000 non-null  float64\n",
      " 34  Card_Debit_stdSize               20000 non-null  float64\n",
      " 35  Cash_Credit_stdSize              20000 non-null  float64\n",
      " 36  Cash_Debit_stdSize               20000 non-null  float64\n",
      " 37  International_Credit_stdSize     20000 non-null  float64\n",
      " 38  International_Debit_stdSize      20000 non-null  float64\n",
      " 39  Wire_Credit_stdSize              20000 non-null  float64\n",
      " 40  Wire_Debit_stdSize               20000 non-null  float64\n",
      " 41  Card_Credit_countSize            20000 non-null  float64\n",
      " 42  Card_Debit_countSize             20000 non-null  float64\n",
      " 43  Cash_Credit_countSize            20000 non-null  float64\n",
      " 44  Cash_Debit_countSize             20000 non-null  float64\n",
      " 45  International_Credit_countSize   20000 non-null  float64\n",
      " 46  International_Debit_countSize    20000 non-null  float64\n",
      " 47  Wire_Credit_countSize            20000 non-null  float64\n",
      " 48  Wire_Debit_countSize             20000 non-null  float64\n",
      " 49  Card_Credit_sumSize              20000 non-null  float64\n",
      " 50  Card_Debit_sumSize               20000 non-null  float64\n",
      " 51  Cash_Credit_sumSize              20000 non-null  float64\n",
      " 52  Cash_Debit_sumSize               20000 non-null  float64\n",
      " 53  International_Credit_sumSize     20000 non-null  float64\n",
      " 54  International_Debit_sumSize      20000 non-null  float64\n",
      " 55  Wire_Credit_sumSize              20000 non-null  float64\n",
      " 56  Wire_Debit_sumSize               20000 non-null  float64\n",
      "dtypes: float64(56), int64(1)\n",
      "memory usage: 8.7 MB\n"
     ]
    }
   ],
   "source": [
    "# Create pivoted aggregations for each metric\n",
    "agg_functions = {\n",
    "    'Size': ['min', 'mean', 'median', 'max', 'std', 'count', 'sum']\n",
    "}\n",
    "\n",
    "# Group by AlertID, Type, and Entry, then aggregate\n",
    "df_transactions_agg = (df_transactions\n",
    "    .copy(deep=True)\n",
    "    .pivot_table(\n",
    "        index='AlertID',\n",
    "        columns=['Type', 'Entry'],\n",
    "        values='Size',\n",
    "        aggfunc=agg_functions['Size']\n",
    "    )\n",
    "    .fillna(0)\n",
    "    )\n",
    "\n",
    "# Flatten column names\n",
    "df_transactions_agg.columns = [\n",
    "    f\"{type_}_{entry}_{stat}Size\" \n",
    "    for stat, type_, entry in df_transactions_agg.columns\n",
    "]\n",
    "\n",
    "# Reset index to make AlertID a regular column\n",
    "df_transactions_agg = df_transactions_agg.reset_index()\n",
    "\n",
    "df_transactions_agg.info()"
   ]
  },
  {
   "cell_type": "markdown",
   "metadata": {},
   "source": [
    "# Merge the alerts and transactions data"
   ]
  },
  {
   "cell_type": "code",
   "execution_count": 3,
   "metadata": {},
   "outputs": [],
   "source": [
    "# Merge dataframes\n",
    "df_full_merged = pd.merge(df_transactions_agg, df_alerts, on='AlertID', how='left')\n",
    "\n",
    "# Convert Outcome to categorical with Dismiss as first level\n",
    "df_full_merged['Outcome'] = pd.Categorical(df_full_merged['Outcome'], \n",
    "                                    categories=['Dismiss', 'Report'],\n",
    "                                    ordered=True)"
   ]
  },
  {
   "cell_type": "code",
   "execution_count": 4,
   "metadata": {},
   "outputs": [
    {
     "name": "stdout",
     "output_type": "stream",
     "text": [
      "<class 'pandas.core.frame.DataFrame'>\n",
      "RangeIndex: 20000 entries, 0 to 19999\n",
      "Data columns (total 59 columns):\n",
      " #   Column                           Non-Null Count  Dtype         \n",
      "---  ------                           --------------  -----         \n",
      " 0   AlertID                          20000 non-null  int64         \n",
      " 1   Card_Credit_minSize              20000 non-null  float64       \n",
      " 2   Card_Debit_minSize               20000 non-null  float64       \n",
      " 3   Cash_Credit_minSize              20000 non-null  float64       \n",
      " 4   Cash_Debit_minSize               20000 non-null  float64       \n",
      " 5   International_Credit_minSize     20000 non-null  float64       \n",
      " 6   International_Debit_minSize      20000 non-null  float64       \n",
      " 7   Wire_Credit_minSize              20000 non-null  float64       \n",
      " 8   Wire_Debit_minSize               20000 non-null  float64       \n",
      " 9   Card_Credit_meanSize             20000 non-null  float64       \n",
      " 10  Card_Debit_meanSize              20000 non-null  float64       \n",
      " 11  Cash_Credit_meanSize             20000 non-null  float64       \n",
      " 12  Cash_Debit_meanSize              20000 non-null  float64       \n",
      " 13  International_Credit_meanSize    20000 non-null  float64       \n",
      " 14  International_Debit_meanSize     20000 non-null  float64       \n",
      " 15  Wire_Credit_meanSize             20000 non-null  float64       \n",
      " 16  Wire_Debit_meanSize              20000 non-null  float64       \n",
      " 17  Card_Credit_medianSize           20000 non-null  float64       \n",
      " 18  Card_Debit_medianSize            20000 non-null  float64       \n",
      " 19  Cash_Credit_medianSize           20000 non-null  float64       \n",
      " 20  Cash_Debit_medianSize            20000 non-null  float64       \n",
      " 21  International_Credit_medianSize  20000 non-null  float64       \n",
      " 22  International_Debit_medianSize   20000 non-null  float64       \n",
      " 23  Wire_Credit_medianSize           20000 non-null  float64       \n",
      " 24  Wire_Debit_medianSize            20000 non-null  float64       \n",
      " 25  Card_Credit_maxSize              20000 non-null  float64       \n",
      " 26  Card_Debit_maxSize               20000 non-null  float64       \n",
      " 27  Cash_Credit_maxSize              20000 non-null  float64       \n",
      " 28  Cash_Debit_maxSize               20000 non-null  float64       \n",
      " 29  International_Credit_maxSize     20000 non-null  float64       \n",
      " 30  International_Debit_maxSize      20000 non-null  float64       \n",
      " 31  Wire_Credit_maxSize              20000 non-null  float64       \n",
      " 32  Wire_Debit_maxSize               20000 non-null  float64       \n",
      " 33  Card_Credit_stdSize              20000 non-null  float64       \n",
      " 34  Card_Debit_stdSize               20000 non-null  float64       \n",
      " 35  Cash_Credit_stdSize              20000 non-null  float64       \n",
      " 36  Cash_Debit_stdSize               20000 non-null  float64       \n",
      " 37  International_Credit_stdSize     20000 non-null  float64       \n",
      " 38  International_Debit_stdSize      20000 non-null  float64       \n",
      " 39  Wire_Credit_stdSize              20000 non-null  float64       \n",
      " 40  Wire_Debit_stdSize               20000 non-null  float64       \n",
      " 41  Card_Credit_countSize            20000 non-null  float64       \n",
      " 42  Card_Debit_countSize             20000 non-null  float64       \n",
      " 43  Cash_Credit_countSize            20000 non-null  float64       \n",
      " 44  Cash_Debit_countSize             20000 non-null  float64       \n",
      " 45  International_Credit_countSize   20000 non-null  float64       \n",
      " 46  International_Debit_countSize    20000 non-null  float64       \n",
      " 47  Wire_Credit_countSize            20000 non-null  float64       \n",
      " 48  Wire_Debit_countSize             20000 non-null  float64       \n",
      " 49  Card_Credit_sumSize              20000 non-null  float64       \n",
      " 50  Card_Debit_sumSize               20000 non-null  float64       \n",
      " 51  Cash_Credit_sumSize              20000 non-null  float64       \n",
      " 52  Cash_Debit_sumSize               20000 non-null  float64       \n",
      " 53  International_Credit_sumSize     20000 non-null  float64       \n",
      " 54  International_Debit_sumSize      20000 non-null  float64       \n",
      " 55  Wire_Credit_sumSize              20000 non-null  float64       \n",
      " 56  Wire_Debit_sumSize               20000 non-null  float64       \n",
      " 57  Date                             20000 non-null  datetime64[us]\n",
      " 58  Outcome                          20000 non-null  category      \n",
      "dtypes: category(1), datetime64[us](1), float64(56), int64(1)\n",
      "memory usage: 8.9 MB\n"
     ]
    }
   ],
   "source": [
    "df_full_merged.info()"
   ]
  },
  {
   "cell_type": "markdown",
   "metadata": {},
   "source": [
    "# Save data frame to parquet file"
   ]
  },
  {
   "cell_type": "markdown",
   "metadata": {},
   "source": [
    "Parquet files are easier to read in the next notebook."
   ]
  },
  {
   "cell_type": "code",
   "execution_count": 5,
   "metadata": {},
   "outputs": [],
   "source": [
    "df_full_merged.to_parquet('full_merged.parquet')"
   ]
  },
  {
   "cell_type": "markdown",
   "metadata": {},
   "source": [
    "The next notebook will fit some machine learning models using AutoGluon (an AutoML library) to predict the outcome of the alerts. We will also evaluate the models and plot the results."
   ]
  }
 ],
 "metadata": {
  "kernelspec": {
   "display_name": "env_AutoGluon_202412",
   "language": "python",
   "name": "python3"
  },
  "language_info": {
   "codemirror_mode": {
    "name": "ipython",
    "version": 3
   },
   "file_extension": ".py",
   "mimetype": "text/x-python",
   "name": "python",
   "nbconvert_exporter": "python",
   "pygments_lexer": "ipython3",
   "version": "3.10.16"
  }
 },
 "nbformat": 4,
 "nbformat_minor": 2
}
